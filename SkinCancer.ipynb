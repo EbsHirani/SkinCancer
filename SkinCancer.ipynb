{
  "nbformat": 4,
  "nbformat_minor": 0,
  "metadata": {
    "colab": {
      "name": "SkinCancer.ipynb",
      "provenance": [],
      "mount_file_id": "1cyVFrzlmB7MSjHwMeDc3xp2S04mvBAx6",
      "authorship_tag": "ABX9TyPB1vHtxFNhaTd/QhGPgijq",
      "include_colab_link": true
    },
    "kernelspec": {
      "name": "python3",
      "display_name": "Python 3"
    },
    "accelerator": "GPU"
  },
  "cells": [
    {
      "cell_type": "markdown",
      "metadata": {
        "id": "view-in-github",
        "colab_type": "text"
      },
      "source": [
        "<a href=\"https://colab.research.google.com/github/EbsHirani/SkinCancer/blob/master/SkinCancer.ipynb\" target=\"_parent\"><img src=\"https://colab.research.google.com/assets/colab-badge.svg\" alt=\"Open In Colab\"/></a>"
      ]
    },
    {
      "cell_type": "code",
      "metadata": {
        "colab_type": "code",
        "id": "PfhA206RcCs1",
        "colab": {}
      },
      "source": [
        "import os\n",
        "os.chdir(\"/content/drive/My Drive/SkinCancer\")"
      ],
      "execution_count": 0,
      "outputs": []
    },
    {
      "cell_type": "code",
      "metadata": {
        "id": "mbWCvgqHs5RL",
        "colab_type": "code",
        "colab": {}
      },
      "source": [
        "os.chdir(\"Data/datasets/kmader/skin-cancer-mnist-ham10000\")"
      ],
      "execution_count": 0,
      "outputs": []
    },
    {
      "cell_type": "code",
      "metadata": {
        "id": "ABoVDIz9c70O",
        "colab_type": "code",
        "colab": {
          "base_uri": "https://localhost:8080/",
          "height": 104
        },
        "outputId": "4ebbcc84-6cea-43f2-d2ab-6f8015b238e7"
      },
      "source": [
        "!unzip \\*.zip\n"
      ],
      "execution_count": 11,
      "outputs": [
        {
          "output_type": "stream",
          "text": [
            "Archive:  skin-cancer-mnist-ham10000.zip\n",
            "replace HAM10000_images_part_1/ISIC_0024306.jpg? [y]es, [n]o, [A]ll, [N]one, [r]ename: N\n",
            "  inflating: HAM10000_metadata.csv   \n",
            "  inflating: hmnist_28_28_L.csv      \n",
            "  inflating: hmnist_28_28_RGB.csv    \n"
          ],
          "name": "stdout"
        }
      ]
    },
    {
      "cell_type": "code",
      "metadata": {
        "id": "VjwJqvNHDuhv",
        "colab_type": "code",
        "outputId": "05872d77-b77a-4779-aace-30d25bab792f",
        "colab": {
          "base_uri": "https://localhost:8080/",
          "height": 208
        }
      },
      "source": [
        "os.listdir()"
      ],
      "execution_count": 12,
      "outputs": [
        {
          "output_type": "execute_result",
          "data": {
            "text/plain": [
              "['hmnist_8_8_L.csv',\n",
              " 'hmnist_8_8_RGB.csv',\n",
              " 'skin-cancer-mnist-ham10000.zip',\n",
              " 'HAM10000_images_part_1',\n",
              " 'HAM10000_images_part_2',\n",
              " 'ham10000_images_part_1',\n",
              " 'ham10000_images_part_2',\n",
              " 'best_model.h5',\n",
              " 'HAM10000_metadata.csv',\n",
              " 'hmnist_28_28_L.csv',\n",
              " 'hmnist_28_28_RGB.csv']"
            ]
          },
          "metadata": {
            "tags": []
          },
          "execution_count": 12
        }
      ]
    },
    {
      "cell_type": "code",
      "metadata": {
        "id": "-oVRl1eodRC3",
        "colab_type": "code",
        "colab": {}
      },
      "source": [
        "from glob import glob\n",
        "\n",
        "imageid_path_dict = {os.path.splitext(os.path.basename(x))[0]: x\n",
        "                     for x in glob('*/*.*')+glob(\"*.*\")+glob(\"*/*/8.jpg\")}"
      ],
      "execution_count": 0,
      "outputs": []
    },
    {
      "cell_type": "code",
      "metadata": {
        "id": "qBhMamWmgSIO",
        "colab_type": "code",
        "outputId": "60bc1406-a032-49dc-bda8-08c75056a6e0",
        "colab": {
          "base_uri": "https://localhost:8080/",
          "height": 35
        }
      },
      "source": [
        "# len([x for x in glob(\"*/*.jpg\")])\n",
        "len(imageid_path_dict)"
      ],
      "execution_count": 14,
      "outputs": [
        {
          "output_type": "execute_result",
          "data": {
            "text/plain": [
              "10022"
            ]
          },
          "metadata": {
            "tags": []
          },
          "execution_count": 14
        }
      ]
    },
    {
      "cell_type": "code",
      "metadata": {
        "id": "BlwJODuLtC8T",
        "colab_type": "code",
        "outputId": "aaab9b37-24cb-4317-c856-159d42ea2143",
        "colab": {
          "base_uri": "https://localhost:8080/",
          "height": 202
        }
      },
      "source": [
        "import pandas as pd\n",
        "import numpy as np\n",
        "metadata = pd.read_csv(\"HAM10000_metadata.csv\")\n",
        "metadata.head()"
      ],
      "execution_count": 15,
      "outputs": [
        {
          "output_type": "execute_result",
          "data": {
            "text/html": [
              "<div>\n",
              "<style scoped>\n",
              "    .dataframe tbody tr th:only-of-type {\n",
              "        vertical-align: middle;\n",
              "    }\n",
              "\n",
              "    .dataframe tbody tr th {\n",
              "        vertical-align: top;\n",
              "    }\n",
              "\n",
              "    .dataframe thead th {\n",
              "        text-align: right;\n",
              "    }\n",
              "</style>\n",
              "<table border=\"1\" class=\"dataframe\">\n",
              "  <thead>\n",
              "    <tr style=\"text-align: right;\">\n",
              "      <th></th>\n",
              "      <th>lesion_id</th>\n",
              "      <th>image_id</th>\n",
              "      <th>dx</th>\n",
              "      <th>dx_type</th>\n",
              "      <th>age</th>\n",
              "      <th>sex</th>\n",
              "      <th>localization</th>\n",
              "    </tr>\n",
              "  </thead>\n",
              "  <tbody>\n",
              "    <tr>\n",
              "      <th>0</th>\n",
              "      <td>HAM_0000118</td>\n",
              "      <td>ISIC_0027419</td>\n",
              "      <td>bkl</td>\n",
              "      <td>histo</td>\n",
              "      <td>80.0</td>\n",
              "      <td>male</td>\n",
              "      <td>scalp</td>\n",
              "    </tr>\n",
              "    <tr>\n",
              "      <th>1</th>\n",
              "      <td>HAM_0000118</td>\n",
              "      <td>ISIC_0025030</td>\n",
              "      <td>bkl</td>\n",
              "      <td>histo</td>\n",
              "      <td>80.0</td>\n",
              "      <td>male</td>\n",
              "      <td>scalp</td>\n",
              "    </tr>\n",
              "    <tr>\n",
              "      <th>2</th>\n",
              "      <td>HAM_0002730</td>\n",
              "      <td>ISIC_0026769</td>\n",
              "      <td>bkl</td>\n",
              "      <td>histo</td>\n",
              "      <td>80.0</td>\n",
              "      <td>male</td>\n",
              "      <td>scalp</td>\n",
              "    </tr>\n",
              "    <tr>\n",
              "      <th>3</th>\n",
              "      <td>HAM_0002730</td>\n",
              "      <td>ISIC_0025661</td>\n",
              "      <td>bkl</td>\n",
              "      <td>histo</td>\n",
              "      <td>80.0</td>\n",
              "      <td>male</td>\n",
              "      <td>scalp</td>\n",
              "    </tr>\n",
              "    <tr>\n",
              "      <th>4</th>\n",
              "      <td>HAM_0001466</td>\n",
              "      <td>ISIC_0031633</td>\n",
              "      <td>bkl</td>\n",
              "      <td>histo</td>\n",
              "      <td>75.0</td>\n",
              "      <td>male</td>\n",
              "      <td>ear</td>\n",
              "    </tr>\n",
              "  </tbody>\n",
              "</table>\n",
              "</div>"
            ],
            "text/plain": [
              "     lesion_id      image_id   dx dx_type   age   sex localization\n",
              "0  HAM_0000118  ISIC_0027419  bkl   histo  80.0  male        scalp\n",
              "1  HAM_0000118  ISIC_0025030  bkl   histo  80.0  male        scalp\n",
              "2  HAM_0002730  ISIC_0026769  bkl   histo  80.0  male        scalp\n",
              "3  HAM_0002730  ISIC_0025661  bkl   histo  80.0  male        scalp\n",
              "4  HAM_0001466  ISIC_0031633  bkl   histo  75.0  male          ear"
            ]
          },
          "metadata": {
            "tags": []
          },
          "execution_count": 15
        }
      ]
    },
    {
      "cell_type": "code",
      "metadata": {
        "id": "wNS2Ar63O4zx",
        "colab_type": "code",
        "colab": {
          "base_uri": "https://localhost:8080/",
          "height": 35
        },
        "outputId": "4d02c825-623e-4a57-a02a-158a53c5f34c"
      },
      "source": [
        "import numpy as np # linear algebra\n",
        "import pandas as pd # data processing, CSV file I/O (e.g. pd.read_csv)\n",
        "import cv2\n",
        "from tensorflow.keras.models import Sequential\n",
        "from tensorflow.keras.layers import Dense , Dropout , Lambda, Flatten\n",
        "from keras.layers.normalization import BatchNormalization\n",
        "from tensorflow.keras.optimizers import Adam ,RMSprop\n",
        "from tensorflow.keras.optimizers import SGD\n",
        "from sklearn.model_selection import train_test_split\n",
        "from keras import  backend as K\n",
        "from keras.preprocessing.image import ImageDataGenerator\n",
        "from keras.utils.np_utils import to_categorical\n",
        "\n",
        "\n",
        "from tensorflow.keras.callbacks import EarlyStopping, ModelCheckpoint\n",
        "from tensorflow.keras.layers import BatchNormalization, Convolution2D , MaxPooling2D, Activation"
      ],
      "execution_count": 16,
      "outputs": [
        {
          "output_type": "stream",
          "text": [
            "Using TensorFlow backend.\n"
          ],
          "name": "stderr"
        }
      ]
    },
    {
      "cell_type": "code",
      "metadata": {
        "id": "yuS3zDbIPltw",
        "colab_type": "code",
        "colab": {}
      },
      "source": [
        "from keras.preprocessing.image import load_img\n",
        "from keras.preprocessing.image import img_to_array\n",
        "from keras.preprocessing.image import array_to_img\n",
        "def read_image(file_path):\n",
        "    img = img_to_array(load_img(file_path,target_size = (64,64)))\n",
        "\n",
        "    return img\n",
        "def prep_data(images):\n",
        "    count = len(images)\n",
        "    data = np.ndarray((count, 64, 64,3), dtype=np.float32)\n",
        "\n",
        "    for i, image_file in enumerate(images):\n",
        "        image = read_image(image_file)\n",
        "        data[i] = image\n",
        "    return data\n",
        "image_arr = prep_data(metadata[\"image_id\"].map(lambda x: imageid_path_dict[x]).values)\n"
      ],
      "execution_count": 0,
      "outputs": []
    },
    {
      "cell_type": "code",
      "metadata": {
        "id": "vh3ZiLQefr5D",
        "colab_type": "code",
        "outputId": "9fecf864-1eda-4a51-eca1-a1491aaacfca",
        "colab": {
          "base_uri": "https://localhost:8080/",
          "height": 35
        }
      },
      "source": [
        "image_arr.shape"
      ],
      "execution_count": 0,
      "outputs": [
        {
          "output_type": "execute_result",
          "data": {
            "text/plain": [
              "(10015, 64, 64, 3)"
            ]
          },
          "metadata": {
            "tags": []
          },
          "execution_count": 77
        }
      ]
    },
    {
      "cell_type": "code",
      "metadata": {
        "id": "k8q_B2bZ3F0P",
        "colab_type": "code",
        "colab": {}
      },
      "source": [
        "metadata[\"dx\"] = metadata[\"dx\"].astype('category')\n",
        "labels = metadata[\"dx\"].cat.codes.values"
      ],
      "execution_count": 0,
      "outputs": []
    },
    {
      "cell_type": "code",
      "metadata": {
        "id": "anIBUYe249p4",
        "colab_type": "code",
        "colab": {}
      },
      "source": [
        "labels = to_categorical(labels)"
      ],
      "execution_count": 0,
      "outputs": []
    },
    {
      "cell_type": "code",
      "metadata": {
        "id": "oZeHQjrg5VZI",
        "colab_type": "code",
        "outputId": "ef7a3f4a-2ad4-408c-f79b-32d285f34014",
        "colab": {
          "base_uri": "https://localhost:8080/",
          "height": 35
        }
      },
      "source": [
        "labels.shape"
      ],
      "execution_count": 0,
      "outputs": [
        {
          "output_type": "execute_result",
          "data": {
            "text/plain": [
              "(10015, 7)"
            ]
          },
          "metadata": {
            "tags": []
          },
          "execution_count": 69
        }
      ]
    },
    {
      "cell_type": "code",
      "metadata": {
        "id": "CZATT_0PtWw9",
        "colab_type": "code",
        "outputId": "752f2be0-6ab6-4ea6-b70a-5f12cc4e2bc4",
        "colab": {
          "base_uri": "https://localhost:8080/",
          "height": 72
        }
      },
      "source": [
        "%matplotlib inline\n",
        "import matplotlib.pyplot as plt\n",
        "import seaborn as sns\n"
      ],
      "execution_count": 0,
      "outputs": [
        {
          "output_type": "stream",
          "text": [
            "/usr/local/lib/python3.6/dist-packages/statsmodels/tools/_testing.py:19: FutureWarning: pandas.util.testing is deprecated. Use the functions in the public API at pandas.testing instead.\n",
            "  import pandas.util.testing as tm\n"
          ],
          "name": "stderr"
        }
      ]
    },
    {
      "cell_type": "code",
      "metadata": {
        "id": "st4MD-okubeQ",
        "colab_type": "code",
        "outputId": "2ab081fd-565f-4470-dc53-7af27fbe1e60",
        "colab": {
          "base_uri": "https://localhost:8080/",
          "height": 313
        }
      },
      "source": [
        "sns.countplot(x = \"dx\", data = metadata)\n",
        "plt.title(\"Ailment Count:\")\n"
      ],
      "execution_count": 0,
      "outputs": [
        {
          "output_type": "execute_result",
          "data": {
            "text/plain": [
              "Text(0.5, 1.0, 'Ailment Count:')"
            ]
          },
          "metadata": {
            "tags": []
          },
          "execution_count": 13
        },
        {
          "output_type": "display_data",
          "data": {
            "image/png": "[encoded data removed]",
            "text/plain": [
              "<Figure size 432x288 with 1 Axes>"
            ]
          },
          "metadata": {
            "tags": []
          }
        }
      ]
    },
    {
      "cell_type": "code",
      "metadata": {
        "id": "Q_J8haMW6EGv",
        "colab_type": "code",
        "outputId": "12cb5ea1-1fb2-4425-e4a5-fbc769fccb66",
        "colab": {
          "base_uri": "https://localhost:8080/",
          "height": 35
        }
      },
      "source": [
        "image_arr.shape"
      ],
      "execution_count": 0,
      "outputs": [
        {
          "output_type": "execute_result",
          "data": {
            "text/plain": [
              "(10015,)"
            ]
          },
          "metadata": {
            "tags": []
          },
          "execution_count": 74
        }
      ]
    },
    {
      "cell_type": "code",
      "metadata": {
        "id": "C68PVQekdrer",
        "colab_type": "code",
        "colab": {}
      },
      "source": [
        "model = Sequential([\n",
        "    BatchNormalization(input_shape=(64,64,3)),\n",
        "    Dropout(0.2),\n",
        "    Convolution2D(32,(3,3), activation = 'relu'),\n",
        "    BatchNormalization(axis = 3),\n",
        "    Convolution2D(32,(3,3),activation = 'relu'),\n",
        "    MaxPooling2D(data_format='channels_last'),\n",
        "    BatchNormalization(axis = 3),\n",
        "    Convolution2D(64,(3,3),activation = 'relu'),\n",
        "    BatchNormalization(axis=3),\n",
        "    Convolution2D(64,(3,3),activation = 'relu'),\n",
        "    MaxPooling2D(data_format='channels_last'),\n",
        "    Convolution2D(128,(3,3),activation='relu'),\n",
        "    #MaxPooling2D(data_format='channels_last'),\n",
        "    BatchNormalization(axis = 3),\n",
        "    Convolution2D(128,(3,3),activation='relu'),\n",
        "    #MaxPooling2D(data_format='channels_last'),\n",
        "    BatchNormalization(axis = 3),\n",
        "    Convolution2D(256,(3,3),activation='relu'),\n",
        "    #MaxPooling2D(data_format='channels_last'),\n",
        "    BatchNormalization(axis = 3),\n",
        "    Convolution2D(256,(3,3),activation='relu'),\n",
        "    #MaxPooling2D(data_format='channels_last'),\n",
        "    Flatten(),\n",
        "    BatchNormalization(),\n",
        "\n",
        "    Dense(256,activation = 'relu'),\n",
        "    BatchNormalization(),\n",
        "    \n",
        "    Dense(7, activation = 'sigmoid'),\n",
        "])\n",
        "model.load_weights(\"model.h5\")\n",
        "model.compile(Adam(), loss='categorical_crossentropy', metrics=['accuracy'])\n",
        "model.optimizer.lr=0.005\n",
        "\n",
        "\n"
      ],
      "execution_count": 0,
      "outputs": []
    },
    {
      "cell_type": "code",
      "metadata": {
        "id": "CPyNPLPpd0OC",
        "colab_type": "code",
        "colab": {}
      },
      "source": [
        "from sklearn.model_selection import train_test_split\n",
        "gen = ImageDataGenerator(featurewise_center=True,\n",
        "    featurewise_std_normalization=True,\n",
        "    rotation_range=20,\n",
        "    width_shift_range=0.2,\n",
        "    height_shift_range=0.2,\n",
        "    horizontal_flip=True)\n",
        " \n",
        "xtrain,xval, ytrain, yval = train_test_split(image_arr, labels ,test_size = 0.10, random_state = 42)\n",
        "batches=gen.flow(xtrain,ytrain,batch_size = 16)\n",
        "valbatches = gen.flow(xval,yval,batch_size = 16)"
      ],
      "execution_count": 0,
      "outputs": []
    },
    {
      "cell_type": "code",
      "metadata": {
        "id": "db9h8Glyd2ky",
        "colab_type": "code",
        "outputId": "ef032434-e184-4bff-be90-b67a7a7f022e",
        "colab": {
          "base_uri": "https://localhost:8080/",
          "height": 211
        }
      },
      "source": [
        "history=model.fit_generator(generator=batches, steps_per_epoch=batches.n, epochs=10, validation_data=valbatches, validation_steps=valbatches.n,callbacks=[EarlyStopping(monitor='val_loss', patience=3, verbose=1, mode='auto'),ModelCheckpoint('best_model.h5', monitor='val_loss', mode='min', save_best_only=True)])"
      ],
      "execution_count": 0,
      "outputs": [
        {
          "output_type": "stream",
          "text": [
            "Epoch 1/10\n",
            "   5/9013 [..............................] - ETA: 3:18 - loss: 0.5463 - accuracy: 0.8500"
          ],
          "name": "stdout"
        },
        {
          "output_type": "stream",
          "text": [
            "/usr/local/lib/python3.6/dist-packages/keras_preprocessing/image/image_data_generator.py:716: UserWarning: This ImageDataGenerator specifies `featurewise_center`, but it hasn't been fit on any training data. Fit it first by calling `.fit(numpy_data)`.\n",
            "  warnings.warn('This ImageDataGenerator specifies '\n",
            "/usr/local/lib/python3.6/dist-packages/keras_preprocessing/image/image_data_generator.py:724: UserWarning: This ImageDataGenerator specifies `featurewise_std_normalization`, but it hasn't been fit on any training data. Fit it first by calling `.fit(numpy_data)`.\n",
            "  warnings.warn('This ImageDataGenerator specifies '\n"
          ],
          "name": "stderr"
        },
        {
          "output_type": "stream",
          "text": [
            "9013/9013 [==============================] - 264s 29ms/step - loss: 0.6484 - accuracy: 0.7618 - val_loss: 0.8252 - val_accuracy: 0.7098\n",
            "Epoch 2/10\n",
            "9013/9013 [==============================] - 263s 29ms/step - loss: 0.6318 - accuracy: 0.7664 - val_loss: 1.0288 - val_accuracy: 0.6734\n",
            "Epoch 3/10\n",
            "1357/9013 [===>..........................] - ETA: 3:24 - loss: 0.6220 - accuracy: 0.7669"
          ],
          "name": "stdout"
        }
      ]
    },
    {
      "cell_type": "code",
      "metadata": {
        "id": "VWMpdDwmd3nz",
        "colab_type": "code",
        "colab": {}
      },
      "source": [
        ""
      ],
      "execution_count": 0,
      "outputs": []
    }
  ]
}