{
  "nbformat": 4,
  "nbformat_minor": 0,
  "metadata": {
    "colab": {
      "name": "SkinCancer.ipynb",
      "provenance": [],
      "mount_file_id": "1cyVFrzlmB7MSjHwMeDc3xp2S04mvBAx6",
      "authorship_tag": "ABX9TyMsYmPNdfO0plWvUWM6s+fr",
      "include_colab_link": true
    },
    "kernelspec": {
      "name": "python3",
      "display_name": "Python 3"
    },
    "accelerator": "GPU"
  },
  "cells": [
    {
      "cell_type": "markdown",
      "metadata": {
        "id": "view-in-github",
        "colab_type": "text"
      },
      "source": [
        "<a href=\"https://colab.research.google.com/github/EbsHirani/SkinCancer/blob/master/SkinCancer.ipynb\" target=\"_parent\"><img src=\"https://colab.research.google.com/assets/colab-badge.svg\" alt=\"Open In Colab\"/></a>"
      ]
    },
    {
      "cell_type": "code",
      "metadata": {
        "colab_type": "code",
        "id": "PfhA206RcCs1",
        "colab": {}
      },
      "source": [
        "import os\n",
        "os.chdir(\"/content/drive/My Drive/SkinCancer\")"
      ],
      "execution_count": 0,
      "outputs": []
    },
    {
      "cell_type": "code",
      "metadata": {
        "id": "mbWCvgqHs5RL",
        "colab_type": "code",
        "colab": {}
      },
      "source": [
        "os.chdir(\"Data/datasets/kmader/skin-cancer-mnist-ham10000\")"
      ],
      "execution_count": 0,
      "outputs": []
    },
    {
      "cell_type": "code",
      "metadata": {
        "id": "VjwJqvNHDuhv",
        "colab_type": "code",
        "outputId": "05872d77-b77a-4779-aace-30d25bab792f",
        "colab": {
          "base_uri": "https://localhost:8080/",
          "height": 208
        }
      },
      "source": [
        "os.listdir()"
      ],
      "execution_count": 0,
      "outputs": [
        {
          "output_type": "execute_result",
          "data": {
            "text/plain": [
              "['hmnist_8_8_L.csv',\n",
              " 'hmnist_8_8_RGB.csv',\n",
              " 'skin-cancer-mnist-ham10000.zip',\n",
              " 'HAM10000_images_part_1',\n",
              " 'HAM10000_images_part_2',\n",
              " 'ham10000_images_part_1',\n",
              " 'ham10000_images_part_2',\n",
              " 'best_model.h5',\n",
              " 'HAM10000_metadata.csv',\n",
              " 'hmnist_28_28_L.csv',\n",
              " 'hmnist_28_28_RGB.csv']"
            ]
          },
          "metadata": {
            "tags": []
          },
          "execution_count": 12
        }
      ]
    },
    {
      "cell_type": "code",
      "metadata": {
        "id": "-oVRl1eodRC3",
        "colab_type": "code",
        "colab": {}
      },
      "source": [
        "from glob import glob\n",
        "\n",
        "imageid_path_dict = {os.path.splitext(os.path.basename(x))[0]: x\n",
        "                     for x in glob('*/*.*')+glob(\"*.*\")+glob(\"*/*/8.jpg\")}"
      ],
      "execution_count": 0,
      "outputs": []
    },
    {
      "cell_type": "code",
      "metadata": {
        "id": "qBhMamWmgSIO",
        "colab_type": "code",
        "outputId": "60bc1406-a032-49dc-bda8-08c75056a6e0",
        "colab": {
          "base_uri": "https://localhost:8080/",
          "height": 35
        }
      },
      "source": [
        "# len([x for x in glob(\"*/*.jpg\")])\n",
        "len(imageid_path_dict)"
      ],
      "execution_count": 0,
      "outputs": [
        {
          "output_type": "execute_result",
          "data": {
            "text/plain": [
              "10022"
            ]
          },
          "metadata": {
            "tags": []
          },
          "execution_count": 14
        }
      ]
    },
    {
      "cell_type": "code",
      "metadata": {
        "id": "BlwJODuLtC8T",
        "colab_type": "code",
        "outputId": "382acde1-36b3-4de5-9796-73e7ca050fcf",
        "colab": {
          "base_uri": "https://localhost:8080/",
          "height": 202
        }
      },
      "source": [
        "import pandas as pd\n",
        "import numpy as np\n",
        "metadata = pd.read_csv(\"HAM10000_metadata.csv\")\n",
        "metadata.head()"
      ],
      "execution_count": 0,
      "outputs": [
        {
          "output_type": "execute_result",
          "data": {
            "text/html": [
              "<div>\n",
              "<style scoped>\n",
              "    .dataframe tbody tr th:only-of-type {\n",
              "        vertical-align: middle;\n",
              "    }\n",
              "\n",
              "    .dataframe tbody tr th {\n",
              "        vertical-align: top;\n",
              "    }\n",
              "\n",
              "    .dataframe thead th {\n",
              "        text-align: right;\n",
              "    }\n",
              "</style>\n",
              "<table border=\"1\" class=\"dataframe\">\n",
              "  <thead>\n",
              "    <tr style=\"text-align: right;\">\n",
              "      <th></th>\n",
              "      <th>lesion_id</th>\n",
              "      <th>image_id</th>\n",
              "      <th>dx</th>\n",
              "      <th>dx_type</th>\n",
              "      <th>age</th>\n",
              "      <th>sex</th>\n",
              "      <th>localization</th>\n",
              "    </tr>\n",
              "  </thead>\n",
              "  <tbody>\n",
              "    <tr>\n",
              "      <th>0</th>\n",
              "      <td>HAM_0000118</td>\n",
              "      <td>ISIC_0027419</td>\n",
              "      <td>bkl</td>\n",
              "      <td>histo</td>\n",
              "      <td>80.0</td>\n",
              "      <td>male</td>\n",
              "      <td>scalp</td>\n",
              "    </tr>\n",
              "    <tr>\n",
              "      <th>1</th>\n",
              "      <td>HAM_0000118</td>\n",
              "      <td>ISIC_0025030</td>\n",
              "      <td>bkl</td>\n",
              "      <td>histo</td>\n",
              "      <td>80.0</td>\n",
              "      <td>male</td>\n",
              "      <td>scalp</td>\n",
              "    </tr>\n",
              "    <tr>\n",
              "      <th>2</th>\n",
              "      <td>HAM_0002730</td>\n",
              "      <td>ISIC_0026769</td>\n",
              "      <td>bkl</td>\n",
              "      <td>histo</td>\n",
              "      <td>80.0</td>\n",
              "      <td>male</td>\n",
              "      <td>scalp</td>\n",
              "    </tr>\n",
              "    <tr>\n",
              "      <th>3</th>\n",
              "      <td>HAM_0002730</td>\n",
              "      <td>ISIC_0025661</td>\n",
              "      <td>bkl</td>\n",
              "      <td>histo</td>\n",
              "      <td>80.0</td>\n",
              "      <td>male</td>\n",
              "      <td>scalp</td>\n",
              "    </tr>\n",
              "    <tr>\n",
              "      <th>4</th>\n",
              "      <td>HAM_0001466</td>\n",
              "      <td>ISIC_0031633</td>\n",
              "      <td>bkl</td>\n",
              "      <td>histo</td>\n",
              "      <td>75.0</td>\n",
              "      <td>male</td>\n",
              "      <td>ear</td>\n",
              "    </tr>\n",
              "  </tbody>\n",
              "</table>\n",
              "</div>"
            ],
            "text/plain": [
              "     lesion_id      image_id   dx dx_type   age   sex localization\n",
              "0  HAM_0000118  ISIC_0027419  bkl   histo  80.0  male        scalp\n",
              "1  HAM_0000118  ISIC_0025030  bkl   histo  80.0  male        scalp\n",
              "2  HAM_0002730  ISIC_0026769  bkl   histo  80.0  male        scalp\n",
              "3  HAM_0002730  ISIC_0025661  bkl   histo  80.0  male        scalp\n",
              "4  HAM_0001466  ISIC_0031633  bkl   histo  75.0  male          ear"
            ]
          },
          "metadata": {
            "tags": []
          },
          "execution_count": 3
        }
      ]
    },
    {
      "cell_type": "code",
      "metadata": {
        "id": "wNS2Ar63O4zx",
        "colab_type": "code",
        "outputId": "1e9f32be-286e-4343-d740-dba27289dd08",
        "colab": {
          "base_uri": "https://localhost:8080/",
          "height": 35
        }
      },
      "source": [
        "import numpy as np # linear algebra\n",
        "import pandas as pd # data processing, CSV file I/O (e.g. pd.read_csv)\n",
        "import cv2\n",
        "from tensorflow.keras.models import Sequential\n",
        "from tensorflow.keras.layers import Dense , Dropout , Lambda, Flatten\n",
        "from keras.layers.normalization import BatchNormalization\n",
        "from tensorflow.keras.optimizers import Adam ,RMSprop\n",
        "from tensorflow.keras.optimizers import SGD\n",
        "from sklearn.model_selection import train_test_split\n",
        "from keras import  backend as K\n",
        "from keras.preprocessing.image import ImageDataGenerator\n",
        "from keras.utils.np_utils import to_categorical\n",
        "\n",
        "\n",
        "from tensorflow.keras.callbacks import EarlyStopping, ModelCheckpoint\n",
        "from tensorflow.keras.layers import BatchNormalization, Convolution2D , MaxPooling2D, Activation"
      ],
      "execution_count": 0,
      "outputs": [
        {
          "output_type": "stream",
          "text": [
            "Using TensorFlow backend.\n"
          ],
          "name": "stderr"
        }
      ]
    },
    {
      "cell_type": "code",
      "metadata": {
        "id": "yuS3zDbIPltw",
        "colab_type": "code",
        "colab": {}
      },
      "source": [
        "from keras.preprocessing.image import load_img\n",
        "from keras.preprocessing.image import img_to_array\n",
        "from keras.preprocessing.image import array_to_img\n",
        "def read_image(file_path):\n",
        "    img = img_to_array(load_img(file_path,target_size = (64,64)))\n",
        "\n",
        "    return img\n",
        "def prep_data(images):\n",
        "    count = len(images)\n",
        "    data = np.ndarray((count, 64, 64,3), dtype=np.float32)\n",
        "\n",
        "    for i, image_file in enumerate(images):\n",
        "        image = read_image(image_file)\n",
        "        data[i] = image\n",
        "    return data\n",
        "image_arr = prep_data(metadata[\"image_id\"].map(lambda x: imageid_path_dict[x]).values)\n"
      ],
      "execution_count": 0,
      "outputs": []
    },
    {
      "cell_type": "code",
      "metadata": {
        "id": "vh3ZiLQefr5D",
        "colab_type": "code",
        "outputId": "5617a2d7-5445-44ab-ddde-aecadb17b3bd",
        "colab": {
          "base_uri": "https://localhost:8080/",
          "height": 35
        }
      },
      "source": [
        "from numpy import load\n",
        "image_arr = load(\"image_array.npy\")\n",
        "image_arr.shape\n"
      ],
      "execution_count": 0,
      "outputs": [
        {
          "output_type": "execute_result",
          "data": {
            "text/plain": [
              "(10015, 64, 64, 3)"
            ]
          },
          "metadata": {
            "tags": []
          },
          "execution_count": 5
        }
      ]
    },
    {
      "cell_type": "code",
      "metadata": {
        "id": "k8q_B2bZ3F0P",
        "colab_type": "code",
        "colab": {}
      },
      "source": [
        "metadata[\"dx\"] = metadata[\"dx\"].astype('category')\n",
        "labels = metadata[\"dx\"].cat.codes.values"
      ],
      "execution_count": 0,
      "outputs": []
    },
    {
      "cell_type": "code",
      "metadata": {
        "id": "anIBUYe249p4",
        "colab_type": "code",
        "colab": {}
      },
      "source": [
        "labels = to_categorical(labels)"
      ],
      "execution_count": 0,
      "outputs": []
    },
    {
      "cell_type": "code",
      "metadata": {
        "id": "oZeHQjrg5VZI",
        "colab_type": "code",
        "outputId": "598adb9d-15aa-4964-fa13-b8b86cd65cc4",
        "colab": {
          "base_uri": "https://localhost:8080/",
          "height": 35
        }
      },
      "source": [
        "labels.shape"
      ],
      "execution_count": 0,
      "outputs": [
        {
          "output_type": "execute_result",
          "data": {
            "text/plain": [
              "(10015, 7)"
            ]
          },
          "metadata": {
            "tags": []
          },
          "execution_count": 8
        }
      ]
    },
    {
      "cell_type": "code",
      "metadata": {
        "id": "CZATT_0PtWw9",
        "colab_type": "code",
        "outputId": "4d701c94-b84e-429b-f890-e062d3f1dc35",
        "colab": {
          "base_uri": "https://localhost:8080/",
          "height": 72
        }
      },
      "source": [
        "%matplotlib inline\n",
        "import matplotlib.pyplot as plt\n",
        "import seaborn as sns\n"
      ],
      "execution_count": 0,
      "outputs": [
        {
          "output_type": "stream",
          "text": [
            "/usr/local/lib/python3.6/dist-packages/statsmodels/tools/_testing.py:19: FutureWarning: pandas.util.testing is deprecated. Use the functions in the public API at pandas.testing instead.\n",
            "  import pandas.util.testing as tm\n"
          ],
          "name": "stderr"
        }
      ]
    },
    {
      "cell_type": "code",
      "metadata": {
        "id": "st4MD-okubeQ",
        "colab_type": "code",
        "outputId": "f0fcc0e2-e49e-424e-9bd2-b3b862315574",
        "colab": {
          "base_uri": "https://localhost:8080/",
          "height": 421
        }
      },
      "source": [
        "plt.figure(figsize=(12, 6))\n",
        "sns.countplot(x = \"dx\", data = metadata)\n",
        "plt.title(\"Ailment Count:\")\n"
      ],
      "execution_count": 0,
      "outputs": [
        {
          "output_type": "execute_result",
          "data": {
            "text/plain": [
              "Text(0.5, 1.0, 'Ailment Count:')"
            ]
          },
          "metadata": {
            "tags": []
          },
          "execution_count": 19
        },
        {
          "output_type": "display_data",
          "data": {
            "image/png": "[encoded data removed]",
            "text/plain": [
              "<Figure size 864x432 with 1 Axes>"
            ]
          },
          "metadata": {
            "tags": []
          }
        }
      ]
    },
    {
      "cell_type": "code",
      "metadata": {
        "id": "XdOCkYlu2EZN",
        "colab_type": "code",
        "outputId": "47db440a-2936-45dc-8e47-f8cab993765b",
        "colab": {
          "base_uri": "https://localhost:8080/",
          "height": 421
        }
      },
      "source": [
        "plt.figure(figsize=(16, 6))\n",
        "sns.countplot(x = \"localization\", data = metadata)\n",
        "plt.title(\"Localization\")\n"
      ],
      "execution_count": 0,
      "outputs": [
        {
          "output_type": "execute_result",
          "data": {
            "text/plain": [
              "Text(0.5, 1.0, 'Localization')"
            ]
          },
          "metadata": {
            "tags": []
          },
          "execution_count": 18
        },
        {
          "output_type": "display_data",
          "data": {
            "image/png": "[encoded data removed]",
            "text/plain": [
              "<Figure size 1152x432 with 1 Axes>"
            ]
          },
          "metadata": {
            "tags": []
          }
        }
      ]
    },
    {
      "cell_type": "code",
      "metadata": {
        "id": "TpvmXfSf2zci",
        "colab_type": "code",
        "outputId": "b1247104-e73d-49ad-c7f7-2af1e4b13191",
        "colab": {
          "base_uri": "https://localhost:8080/",
          "height": 949
        }
      },
      "source": [
        "plt.figure(figsize=(16, 16))\n",
        "\n",
        "sns.scatterplot(x = \"localization\", y = \"dx\", data = metadata)"
      ],
      "execution_count": 0,
      "outputs": [
        {
          "output_type": "execute_result",
          "data": {
            "text/plain": [
              "<matplotlib.axes._subplots.AxesSubplot at 0x7fdaac737ef0>"
            ]
          },
          "metadata": {
            "tags": []
          },
          "execution_count": 21
        },
        {
          "output_type": "display_data",
          "data": {
            "image/png": "[encoded data removed]",
            "text/plain": [
              "<Figure size 1152x1152 with 1 Axes>"
            ]
          },
          "metadata": {
            "tags": []
          }
        }
      ]
    },
    {
      "cell_type": "code",
      "metadata": {
        "id": "C68PVQekdrer",
        "colab_type": "code",
        "colab": {}
      },
      "source": [
        "model = Sequential([\n",
        "    BatchNormalization(input_shape=(64,64,3)),\n",
        "    Dropout(0.2),\n",
        "    Convolution2D(32,(3,3), activation = 'relu'),\n",
        "    BatchNormalization(axis = 3),\n",
        "    Convolution2D(32,(3,3),activation = 'relu'),\n",
        "    MaxPooling2D(data_format='channels_last'),\n",
        "    BatchNormalization(axis = 3),\n",
        "    Convolution2D(64,(3,3),activation = 'relu'),\n",
        "    BatchNormalization(axis=3),\n",
        "    Convolution2D(64,(3,3),activation = 'relu'),\n",
        "    MaxPooling2D(data_format='channels_last'),\n",
        "    Convolution2D(128,(3,3),activation='relu'),\n",
        "    #MaxPooling2D(data_format='channels_last'),\n",
        "    BatchNormalization(axis = 3),\n",
        "    Convolution2D(128,(3,3),activation='relu'),\n",
        "    #MaxPooling2D(data_format='channels_last'),\n",
        "    BatchNormalization(axis = 3),\n",
        "    Convolution2D(256,(3,3),activation='relu'),\n",
        "    #MaxPooling2D(data_format='channels_last'),\n",
        "    BatchNormalization(axis = 3),\n",
        "    Convolution2D(256,(3,3),activation='relu'),\n",
        "    #MaxPooling2D(data_format='channels_last'),\n",
        "    Flatten(),\n",
        "    BatchNormalization(),\n",
        "\n",
        "    Dense(256,activation = 'relu'),\n",
        "    BatchNormalization(),\n",
        "    \n",
        "    Dense(7, activation = 'sigmoid'),\n",
        "])\n",
        "model.load_weights(\"best_model.h5\")\n",
        "model.compile(Adam(), loss='categorical_crossentropy', metrics=['accuracy'])\n",
        "model.optimizer.lr=0.005\n",
        "\n",
        "\n"
      ],
      "execution_count": 0,
      "outputs": []
    },
    {
      "cell_type": "code",
      "metadata": {
        "id": "CPyNPLPpd0OC",
        "colab_type": "code",
        "colab": {}
      },
      "source": [
        "from sklearn.model_selection import train_test_split\n",
        "gen = ImageDataGenerator(featurewise_center=True,\n",
        "    featurewise_std_normalization=True,\n",
        "    rotation_range=20,\n",
        "    width_shift_range=0.2,\n",
        "    height_shift_range=0.2,\n",
        "    horizontal_flip=True)\n",
        "gen.fit(image_arr) \n",
        "xtrain,xval, ytrain, yval = train_test_split(image_arr, labels ,test_size = 0.10, random_state = 42)\n",
        "batches=gen.flow(xtrain,ytrain,batch_size = 16)\n",
        "valbatches = gen.flow(xval,yval,batch_size = 16)"
      ],
      "execution_count": 0,
      "outputs": []
    },
    {
      "cell_type": "code",
      "metadata": {
        "id": "db9h8Glyd2ky",
        "colab_type": "code",
        "outputId": "69cce668-7586-4925-e272-b69c095279b7",
        "colab": {
          "base_uri": "https://localhost:8080/",
          "height": 173
        }
      },
      "source": [
        "history=model.fit_generator(generator=batches, steps_per_epoch=batches.n, epochs=10, validation_data=valbatches, validation_steps=valbatches.n,callbacks=[EarlyStopping(monitor='val_loss', patience=3, verbose=1, mode='auto'),ModelCheckpoint('best_model.h5', monitor='val_loss', mode='min', save_best_only=True)])"
      ],
      "execution_count": 0,
      "outputs": [
        {
          "output_type": "stream",
          "text": [
            "Epoch 1/10\n",
            "9013/9013 [==============================] - 202s 22ms/step - loss: 0.5953 - accuracy: 0.7798 - val_loss: 0.7986 - val_accuracy: 0.7269\n",
            "Epoch 2/10\n",
            "9013/9013 [==============================] - 199s 22ms/step - loss: 0.5711 - accuracy: 0.7870 - val_loss: 0.9587 - val_accuracy: 0.7267\n",
            "Epoch 3/10\n",
            "9013/9013 [==============================] - 199s 22ms/step - loss: 0.5525 - accuracy: 0.7920 - val_loss: 0.8969 - val_accuracy: 0.7317\n",
            "Epoch 4/10\n",
            "9013/9013 [==============================] - 199s 22ms/step - loss: 0.5726 - accuracy: 0.7858 - val_loss: 0.8801 - val_accuracy: 0.7288\n",
            "Epoch 00004: early stopping\n"
          ],
          "name": "stdout"
        }
      ]
    }
  ]
}